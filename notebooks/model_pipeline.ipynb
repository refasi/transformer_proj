# Import required libraries
import torch
import torch.nn as nn
import torch.optim as optim
import pandas as pd
from sklearn.model_selection import train_test_split
from sklearn.preprocessing import StandardScaler
from sklearn.metrics import mean_squared_error

# Define the dataset path
DATA_PATH = "data/raw/sample_data.csv"

# Load and preprocess the dataset
data = pd.read_csv(DATA_PATH)
X = data.iloc[:, :-1].values  # Features
y = data.iloc[:, -1].values   # Target

# Split data into train and test sets
X_train, X_test, y_train, y_test = train_test_split(X, y, test_size=0.2, random_state=42)

# Scale the data
scaler = StandardScaler()
X_train = scaler.fit_transform(X_train)
X_test = scaler.transform(X_test)

# Convert to PyTorch tensors
X_train = torch.tensor(X_train, dtype=torch.float32)
y_train = torch.tensor(y_train, dtype=torch.float32).view(-1, 1)
X_test = torch.tensor(X_test, dtype=torch.float32)
y_test = torch.tensor(y_test, dtype=torch.float32).view(-1, 1)

# Define the model
from simple_model import SimpleNN

input_size = X_train.shape[1]
hidden_size = 64
output_size = 1

model = SimpleNN(input_size, hidden_size, output_size)

# Define loss function and optimizer
criterion = nn.MSELoss()
optimizer = optim.Adam(model.parameters(), lr=0.001)

# Training the model
num_epochs = 50
for epoch in range(num_epochs):
    # Forward pass
    outputs = model(X_train)
    loss = criterion(outputs, y_train)

    # Backward pass and optimization
    optimizer.zero_grad()
    loss.backward()
    optimizer.step()

    if (epoch + 1) % 10 == 0:
        print(f"Epoch [{epoch+1}/{num_epochs}], Loss: {loss.item():.4f}")

# Evaluate the model
with torch.no_grad():
    y_pred = model(X_test)
    mse = mean_squared_error(y_test.numpy(), y_pred.numpy())
    print(f"Mean Squared Error on Test Data: {mse:.4f}")

# Save the model
MODEL_PATH = "models/final/simple_nn.pth"
torch.save(model.state_dict(), MODEL_PATH)
print(f"Model saved to {MODEL_PATH}")

# Load the model (example)
loaded_model = SimpleNN(input_size, hidden_size, output_size)
loaded_model.load_state_dict(torch.load(MODEL_PATH))
loaded_model.eval()

# Predict with the loaded model
with torch.no_grad():
    sample_input = X_test[0:1]  # First test example
    sample_output = loaded_model(sample_input)
    print(f"Predicted: {sample_output.item()}, Actual: {y_test[0].item()}")
